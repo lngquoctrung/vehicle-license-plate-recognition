{
 "cells": [
  {
   "cell_type": "markdown",
   "id": "98af6093-12e8-422d-a7c5-d3ef667392e2",
   "metadata": {},
   "source": [
    "## **0. Introduction**\n",
    "\n",
    "In recently year, the development of science and technology has had many outstanding achievements in general and in the field of Artificial Intelligence (AI) field in particular. AI almost become a effective supporter for human in many fields, such as language, sound, image,... Especially, \n",
    "\n",
    "In this projects, we will build small application about vehicle license plate recegnition"
   ]
  },
  {
   "cell_type": "code",
   "execution_count": 19,
   "id": "713f64c0-8097-4cd1-b4b4-efb33415fbaa",
   "metadata": {},
   "outputs": [
    {
     "name": "stdout",
     "output_type": "stream",
     "text": [
      "Thu Jan 16 02:17:40 2025       \n",
      "+---------------------------------------------------------------------------------------+\n",
      "| NVIDIA-SMI 535.183.01             Driver Version: 535.183.01   CUDA Version: 12.2     |\n",
      "|-----------------------------------------+----------------------+----------------------+\n",
      "| GPU  Name                 Persistence-M | Bus-Id        Disp.A | Volatile Uncorr. ECC |\n",
      "| Fan  Temp   Perf          Pwr:Usage/Cap |         Memory-Usage | GPU-Util  Compute M. |\n",
      "|                                         |                      |               MIG M. |\n",
      "|=========================================+======================+======================|\n",
      "|   0  NVIDIA GeForce MX230           Off | 00000000:01:00.0 Off |                  N/A |\n",
      "| N/A   50C    P8              N/A / ERR! |      6MiB /  4096MiB |      0%      Default |\n",
      "|                                         |                      |                  N/A |\n",
      "+-----------------------------------------+----------------------+----------------------+\n",
      "                                                                                         \n",
      "+---------------------------------------------------------------------------------------+\n",
      "| Processes:                                                                            |\n",
      "|  GPU   GI   CI        PID   Type   Process name                            GPU Memory |\n",
      "|        ID   ID                                                             Usage      |\n",
      "|=======================================================================================|\n",
      "|    0   N/A  N/A      2365      G   /usr/lib/xorg/Xorg                            4MiB |\n",
      "+---------------------------------------------------------------------------------------+\n"
     ]
    }
   ],
   "source": [
    "!nvidia-smi"
   ]
  },
  {
   "cell_type": "code",
   "execution_count": 20,
   "id": "434dabe2-9776-491f-a650-477086116ed7",
   "metadata": {},
   "outputs": [
    {
     "name": "stdout",
     "output_type": "stream",
     "text": [
      "nvcc: NVIDIA (R) Cuda compiler driver\n",
      "Copyright (c) 2005-2023 NVIDIA Corporation\n",
      "Built on Fri_Jan__6_16:45:21_PST_2023\n",
      "Cuda compilation tools, release 12.0, V12.0.140\n",
      "Build cuda_12.0.r12.0/compiler.32267302_0\n"
     ]
    }
   ],
   "source": [
    "!nvcc --version"
   ]
  },
  {
   "cell_type": "markdown",
   "id": "6f318806-2229-4058-a707-58ed8bf8d677",
   "metadata": {},
   "source": [
    "## **1. Libraries**"
   ]
  },
  {
   "cell_type": "code",
   "execution_count": 69,
   "id": "1f016686-231a-4fad-a82f-26cf5944c337",
   "metadata": {},
   "outputs": [],
   "source": [
    "import requests\n",
    "import os\n",
    "import warnings\n",
    "import zipfile\n",
    "import pandas as pd\n",
    "import cv2\n",
    "import tensorflow as tf\n",
    "\n",
    "from tqdm import tqdm\n",
    "from lxml import etree"
   ]
  },
  {
   "cell_type": "code",
   "execution_count": 37,
   "id": "432b298b-a605-437b-a415-3e6651cf0e9f",
   "metadata": {},
   "outputs": [],
   "source": [
    "warnings.filterwarnings('ignore')"
   ]
  },
  {
   "cell_type": "code",
   "execution_count": 23,
   "id": "34dddadd-be8e-43db-9042-dd76f5279486",
   "metadata": {},
   "outputs": [
    {
     "data": {
      "text/plain": [
       "[PhysicalDevice(name='/physical_device:GPU:0', device_type='GPU')]"
      ]
     },
     "execution_count": 23,
     "metadata": {},
     "output_type": "execute_result"
    }
   ],
   "source": [
    "# Check GPU\n",
    "tf.config.list_physical_devices('GPU')"
   ]
  },
  {
   "cell_type": "code",
   "execution_count": 24,
   "id": "f9dd7897-99d9-4536-a3f9-3096aff85f6a",
   "metadata": {},
   "outputs": [],
   "source": [
    "# Enable all GPUs\n",
    "gpus = tf.config.list_physical_devices('GPU')\n",
    "if gpus:\n",
    "    try:\n",
    "        for gpu in gpus:\n",
    "            tf.config.experimental.set_memory_growth(gpu, True)\n",
    "    except RuntimeError as e:\n",
    "        print(e)"
   ]
  },
  {
   "cell_type": "markdown",
   "id": "558c0715-3a28-4f83-b5b1-5d0cca58fd12",
   "metadata": {},
   "source": [
    "## **2. Dataset**\n",
    "\n",
    "..."
   ]
  },
  {
   "cell_type": "code",
   "execution_count": 82,
   "id": "2b846ebb-8433-4902-885e-d50574477edf",
   "metadata": {},
   "outputs": [],
   "source": [
    "def download_dataset(url, dest_path = 'data'):\n",
    "    # Create folder data to store dataset if it does not exist\n",
    "    if not os.path.exists(dest_path):\n",
    "        print('Creating folder to store dataset...')\n",
    "        os.mkdir(dest_path)\n",
    "        print('Created!!')\n",
    "    \n",
    "    # File name and destination path where file is stored\n",
    "    zip_file_name = url.split('/')[-1]\n",
    "    zip_file_path = f'{dest_path}/{zip_file_name}'\n",
    "\n",
    "    # Download dataset if data folder is empty\n",
    "    if len(os.listdir(dest_path)) == 0:\n",
    "        print('Dataset does not exist, please waiting to download data from github...')\n",
    "        # Download zip file\n",
    "        response = requests.get(url, stream=True)\n",
    "        total_size = int(response.headers.get('Content-Length', 0))\n",
    "        print('Start to download...')\n",
    "        \n",
    "        # Display progress when download file\n",
    "        with open(zip_file_path, 'wb') as file, tqdm(\n",
    "            desc=f'{zip_file_path}',\n",
    "            total=total_size,\n",
    "            unit='B',\n",
    "            unit_scale=True,\n",
    "            unit_divisor=1024,\n",
    "            leave=True,\n",
    "            position=0,\n",
    "        ) as progress_bar:\n",
    "            for content in response.iter_content(chunk_size=1024):\n",
    "                size = file.write(content)\n",
    "                progress_bar.update(size)\n",
    "        print('Downloaded, please waiting to extract file...')\n",
    "        print('Extracting...')\n",
    "\n",
    "        # Extract zip file\n",
    "        with zipfile.ZipFile(zip_file_path, 'r') as zip_ref:\n",
    "            zip_ref.extractall(dest_path)\n",
    "            print('Extracted!!')\n",
    "        print('Removing zip file...')\n",
    "        os.remove(zip_file_path)\n",
    "        print('Removed!!')\n",
    "    print('Done!!')"
   ]
  },
  {
   "cell_type": "code",
   "execution_count": 84,
   "id": "7ef5a991-be26-408f-8be6-7efd79744d86",
   "metadata": {},
   "outputs": [
    {
     "name": "stdout",
     "output_type": "stream",
     "text": [
      "Creating folder to store dataset...\n",
      "Created!!\n",
      "Dataset does not exist, please waiting to download data from github...\n",
      "Start to download...\n"
     ]
    },
    {
     "name": "stderr",
     "output_type": "stream",
     "text": [
      "data/archive.zip: 100%|██████████████████████| 203M/203M [00:13<00:00, 16.1MB/s]\n"
     ]
    },
    {
     "name": "stdout",
     "output_type": "stream",
     "text": [
      "Downloaded, please waiting to extract file...\n",
      "Extracting...\n",
      "Extracted!!\n",
      "Removing zip file...\n",
      "Removed!!\n",
      "Done!!\n"
     ]
    }
   ],
   "source": [
    "url = 'https://github.com/lngquoctrung/vehicle-license-plate-recognition/raw/refs/heads/main/archive.zip'\n",
    "download_dataset(url=url)"
   ]
  },
  {
   "cell_type": "code",
   "execution_count": 130,
   "id": "58d8fea1-4948-43ab-81ff-6730df882949",
   "metadata": {},
   "outputs": [
    {
     "name": "stdout",
     "output_type": "stream",
     "text": [
      "annotations:\n",
      "  |--- Cars24.xml\n",
      "  |--- Cars367.xml\n",
      "  |--- Cars346.xml\n",
      "  |--- Cars430.xml\n",
      "  |--- Cars40.xml\n",
      "  ...\n",
      "images:\n",
      "  |--- Cars354.png\n",
      "  |--- Cars133.png\n",
      "  |--- Cars261.png\n",
      "  |--- Cars328.png\n",
      "  |--- Cars416.png\n",
      "  ...\n"
     ]
    }
   ],
   "source": [
    "# Check data folder\n",
    "for dir_name in os.listdir('./data'):\n",
    "    print(f'{dir_name}:')\n",
    "    list_child_files = os.listdir(f'./data/{dir_name}')\n",
    "    for i in range(len(list_child_files[:5])):\n",
    "        print(f'{' ' * 2}|{'-' * 3} {list_child_files[i]}')\n",
    "    print(f'{' ' * 2}...')"
   ]
  }
 ],
 "metadata": {
  "kernelspec": {
   "display_name": "Python [conda env:base] *",
   "language": "python",
   "name": "conda-base-py"
  },
  "language_info": {
   "codemirror_mode": {
    "name": "ipython",
    "version": 3
   },
   "file_extension": ".py",
   "mimetype": "text/x-python",
   "name": "python",
   "nbconvert_exporter": "python",
   "pygments_lexer": "ipython3",
   "version": "3.12.2"
  }
 },
 "nbformat": 4,
 "nbformat_minor": 5
}

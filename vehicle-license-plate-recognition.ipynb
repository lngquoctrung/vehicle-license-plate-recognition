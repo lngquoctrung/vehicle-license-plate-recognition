{
 "cells": [
  {
   "cell_type": "markdown",
   "id": "98af6093-12e8-422d-a7c5-d3ef667392e2",
   "metadata": {},
   "source": [
    "## **0. Introduction**\n",
    "\n",
    "In recently year, the development of science and technology has had many outstanding achievements in general and in the field of Artificial Intelligence (AI) field in particular. AI almost become a effective supporter for human in many fields, such as language, sound, image,... Especially, \n",
    "\n",
    "In this projects, we will build small application about vehicle license plate recegnition"
   ]
  },
  {
   "cell_type": "markdown",
   "id": "6f318806-2229-4058-a707-58ed8bf8d677",
   "metadata": {},
   "source": [
    "## **1. Libraries**"
   ]
  },
  {
   "cell_type": "code",
   "execution_count": 5,
   "id": "1f016686-231a-4fad-a82f-26cf5944c337",
   "metadata": {},
   "outputs": [],
   "source": [
    "import requests\n",
    "import zipfile\n",
    "import pandas as pd\n",
    "import cv2\n",
    "\n",
    "from tqdm import tqdm\n",
    "from lxml import etree"
   ]
  },
  {
   "cell_type": "code",
   "execution_count": 31,
   "id": "2a26bfe1-1b18-4879-af86-2a5dcea0fa9b",
   "metadata": {},
   "outputs": [
    {
     "data": {
      "text/plain": [
       "[]"
      ]
     },
     "execution_count": 31,
     "metadata": {},
     "output_type": "execute_result"
    }
   ],
   "source": []
  }
 ],
 "metadata": {
  "kernelspec": {
   "display_name": "Python [conda env:base] *",
   "language": "python",
   "name": "conda-base-py"
  },
  "language_info": {
   "codemirror_mode": {
    "name": "ipython",
    "version": 3
   },
   "file_extension": ".py",
   "mimetype": "text/x-python",
   "name": "python",
   "nbconvert_exporter": "python",
   "pygments_lexer": "ipython3",
   "version": "3.12.2"
  }
 },
 "nbformat": 4,
 "nbformat_minor": 5
}

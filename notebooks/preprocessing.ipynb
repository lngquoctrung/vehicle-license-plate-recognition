{
 "cells": [
  {
   "cell_type": "markdown",
   "metadata": {},
   "source": [
    "## **0. Introduction**\n",
    "\n",
    "In recent years, the development of science and technology has had many outstanding achievements in general and in the field of Artificial Intelligence (AI) in particular. In the field of imaging, people have been able to take advantage of collecting images from digital electronic devices such as cameras, camcorders, etc. and use them as input for AI models and take advantage of the computing and learning capabilities of AI models to create predictive models serving humans such as traffic control, behavior and emotion recognition, etc. In particular, in the field of transportation, AI has many practical applications serving human interests such as predicting traffic jams, identifying vehicles participating in traffic, recognizing license plates, etc.\n",
    "\n",
    "<div align=\"center\">\n",
    "    <img\n",
    "        src=\"https://www.pixelsolutionz.com/pixelApp/wp-content/uploads/2020/08/traffic-monitoring-with-AI.png\"\n",
    "        alt=\"\"\n",
    "        width=\"700\"\n",
    "    />\n",
    "</div>\n",
    "\n",
    "In this project, we will research and build a small application on license plate recognition based on the **License Plate** dataset from the **Roboflow** source and perform the **Fine Tuning** technique and use a pre-trained model such as **Resnet**, **MobileNet**,... to make the backbone for the **Faster RCNN** model.\n",
    "\n",
    "<div align=\"center\">\n",
    "    <img\n",
    "        src=\"https://www.times-parking.com.my/wp-content/uploads/2024/09/enL_land_knowledge_set_24E20_0YH4YflkpA.png\"\n",
    "        alt=\"\"\n",
    "        width=\"700\"\n",
    "    />\n",
    "</div>"
   ]
  },
  {
   "cell_type": "code",
   "execution_count": 1,
   "metadata": {},
   "outputs": [],
   "source": [
    "import sys\n",
    "import os\n",
    "\n",
    "# Add root directory of rhe project into sys.path\n",
    "sys.path.append(os.path.abspath(os.path.join(\"..\")))"
   ]
  },
  {
   "cell_type": "markdown",
   "metadata": {},
   "source": [
    "## **1. Libraries**\n",
    "\n",
    "In this project, we need some external libraries such as OpenCV, Pytorch,... (version details in the [requirements](./requirements.txt) file). Because this project needs to process image features, the OpenCV library is a specialized tool for image problems such as loading images, resizing,... The **Pytorch** library is a popular tool specializing in building deep learning models, the library provides us with classes, metrics, optimizers,... to help us build the desired models, more specifically, this library provides us with classes such as **Dataset**, **DataLoader** to help build dataset models to avoid memory overflow problems when saving all images in an array. In addition, supporting libraries such as Numpy, Matplotlib,..."
   ]
  },
  {
   "cell_type": "code",
   "execution_count": 2,
   "metadata": {},
   "outputs": [],
   "source": [
    "from src.data_preprocessing import download_dataset, preprocess_data\n",
    "from src.config import IMAGE_SIZE, RAW_DATA_DIR, PROCESSED_DATA_DIR\n",
    "from src.utils import print_tree"
   ]
  },
  {
   "cell_type": "markdown",
   "metadata": {},
   "source": [
    "## **2. Dataset**\n",
    "\n",
    "In this project, we will use the **License Plate Computer Vision Project** dataset (Data information in README file) provided by **Universe**, this dataset will include more than **20000** images for the training set, **2000** images in the validation set and **1000** images in the test set. In particular, each image in the dataset has a size of `640x640x3` (RGB color image) and has been preprocessed such as rotating the image, zooming, replacing white points,...\n",
    "\n",
    "<div align=\"center\">\n",
    "    <img\n",
    "        src=\"../assets/example.jpg\"\n",
    "        alt=\"\"\n",
    "        width=\"400\"\n",
    "    />\n",
    "</div>\n",
    "\n",
    "Each image is accompanied by an XML file with the same file name as the image file, this XML file contains information about the image such as image file name, image file path, dimensions (`width`, `height`) and information about the bounding box, which is also the label we will predict. These bounding boxes will be the points `xmin`, `ymin`, `xmax` and `ymax` that form a square around the license plate.\n",
    "\n",
    "```xml\n",
    "<annotation>\n",
    "    <folder/>\n",
    "    <filename>00a09b822d470896_jpg.rf.88ddf90637cd97ac57c03910636a0294.jpg</filename>\n",
    "    <path>00a09b822d470896_jpg.rf.88ddf90637cd97ac57c03910636a0294.jpg</path>\n",
    "    <source>\n",
    "        <database>roboflow.com</database>\n",
    "    </source>\n",
    "    <size>\n",
    "        <!-- Image shape -->\n",
    "        <width>640</width>\n",
    "        <height>640</height>\n",
    "        <depth>3</depth>\n",
    "    </size>\n",
    "    <segmented>0</segmented>\n",
    "    <object>\n",
    "        <name>License Plate Recognition - v1 raw-images</name>\n",
    "        <pose>Unspecified</pose>\n",
    "        <truncated>0</truncated>\n",
    "        <difficult>0</difficult>\n",
    "        <occluded>0</occluded>\n",
    "        <!-- Bounding box -->\n",
    "        <bndbox>\n",
    "            <xmin>2</xmin>\n",
    "            <xmax>43</xmax>\n",
    "            <ymin>408</ymin>\n",
    "            <ymax>428</ymax>\n",
    "        </bndbox>\n",
    "    </object>\n",
    "    ...\n",
    "    <object>\n",
    "        <name>License Plate Recognition - v1 raw-images</name>\n",
    "        <pose>Unspecified</pose>\n",
    "        ...\n",
    "    </object>\n",
    "</annotation>\n",
    "```"
   ]
  },
  {
   "cell_type": "code",
   "execution_count": 3,
   "metadata": {},
   "outputs": [
    {
     "name": "stdout",
     "output_type": "stream",
     "text": [
      "Dataset does not exist, please waiting to download data from the cloud...\n",
      "Start to download...\n",
      "0/20 of data are downloaded\n",
      "5/20 of data are downloaded\n",
      "10/20 of data are downloaded\n",
      "15/20 of data are downloaded\n"
     ]
    },
    {
     "name": "stderr",
     "output_type": "stream",
     "text": [
      "license-plate-project.zip: 100%|██████████| 965M/965M [01:55<00:00, 8.77MB/s] \n"
     ]
    },
    {
     "name": "stdout",
     "output_type": "stream",
     "text": [
      "Downloaded, please waiting to extract file...\n",
      "Extracting...\n",
      "Extracted!!\n",
      "Removing zip file...\n",
      "Removed!!\n",
      "Done!!\n"
     ]
    }
   ],
   "source": [
    "# Download dataset from Github\n",
    "download_dataset(dest=RAW_DATA_DIR)"
   ]
  },
  {
   "cell_type": "code",
   "execution_count": 4,
   "metadata": {},
   "outputs": [
    {
     "name": "stdout",
     "output_type": "stream",
     "text": [
      "[DIR] raw\n",
      "    [DIR] test\n",
      "        [FILE] xemay1817_jpg.rf.119f2c447b36c4a29c10f0ef8e90e019.xml\n",
      "        [FILE] CarLongPlateGen2231_jpg.rf.09a6ae0129bd4a3ccac80d66ba4e4b95.xml\n",
      "        [FILE] xemay246_jpg.rf.530bba55def20c3ce976703557b39b7b.xml\n",
      "        [FILE] xemay66_jpg.rf.a9939bfd9034efff251c176215d259cc.jpg\n",
      "        [FILE] CarLongPlateGen2960_jpg.rf.bda1b9f4642a8866ed162c2edfbe3b94.xml\n",
      "        [...]\n",
      "    [DIR] valid\n",
      "        [FILE] CarLongPlateGen1530_jpg.rf.3289b63b8aff3d0c30701736cc0d7712.jpg\n",
      "        [FILE] CarLongPlateGen1708_jpg.rf.2562fda9da07faf37e8f1cfad4393f9f.xml\n",
      "        [FILE] xemay397_jpg.rf.5b5289344b4ebe46f7c772ac2fb435e3.jpg\n",
      "        [FILE] CarLongPlateGen1809_jpg.rf.c451d9563fb97938eaf545a70ff4c457.jpg\n",
      "        [FILE] CarLongPlateGen86_jpg.rf.6aa8cb57bb3b078e4f1a23b0efe49706.jpg\n",
      "        [...]\n",
      "    [DIR] train\n",
      "        [FILE] CarLongPlateGen2707_jpg.rf.92e2bb3a0499e548f3bc2e54cc4ce299.xml\n",
      "        [FILE] 003df8cf2effae50_jpg.rf.85b92c041e14d9bcf4ed1fd70de9661f.jpg\n",
      "        [FILE] CarLongPlateGen2372_jpg.rf.0d12d2a9b4f0f957096227bf11d30626.jpg\n",
      "        [FILE] Cars168_png_jpg.rf.33aee6637f3a5a92f0bb1bd1e3005c3e.xml\n",
      "        [FILE] CarLongPlate584_jpg.rf.f0130e378d8afc47359cbaca7e8a8969.xml\n",
      "        [...]\n"
     ]
    }
   ],
   "source": [
    "# Display the directory tree of raw data folder\n",
    "print_tree(RAW_DATA_DIR)"
   ]
  },
  {
   "cell_type": "markdown",
   "metadata": {},
   "source": [
    "## **3. Data preprocessing**"
   ]
  },
  {
   "cell_type": "code",
   "execution_count": 5,
   "metadata": {},
   "outputs": [
    {
     "name": "stderr",
     "output_type": "stream",
     "text": [
      "Preprocessing data in test folder...: 100%|██████████| 978/978 [00:02<00:00, 420.65it/s]\n",
      "Preprocessing data in valid folder...: 100%|██████████| 1973/1973 [00:05<00:00, 368.22it/s]\n",
      "Preprocessing data in train folder...: 100%|██████████| 20580/20580 [01:08<00:00, 298.58it/s]\n"
     ]
    }
   ],
   "source": [
    "# Data preprocessing\n",
    "preprocess_data(RAW_DATA_DIR, PROCESSED_DATA_DIR, IMAGE_SIZE)"
   ]
  },
  {
   "cell_type": "code",
   "execution_count": 6,
   "metadata": {},
   "outputs": [
    {
     "name": "stdout",
     "output_type": "stream",
     "text": [
      "[DIR] processed\n",
      "    [DIR] test\n",
      "        [FILE] xemay1817_jpg.rf.119f2c447b36c4a29c10f0ef8e90e019.xml\n",
      "        [FILE] CarLongPlateGen2231_jpg.rf.09a6ae0129bd4a3ccac80d66ba4e4b95.xml\n",
      "        [FILE] xemay246_jpg.rf.530bba55def20c3ce976703557b39b7b.xml\n",
      "        [FILE] xemay66_jpg.rf.a9939bfd9034efff251c176215d259cc.jpg\n",
      "        [FILE] CarLongPlateGen2960_jpg.rf.bda1b9f4642a8866ed162c2edfbe3b94.xml\n",
      "        [...]\n",
      "    [DIR] valid\n",
      "        [FILE] CarLongPlateGen1530_jpg.rf.3289b63b8aff3d0c30701736cc0d7712.jpg\n",
      "        [FILE] CarLongPlateGen1708_jpg.rf.2562fda9da07faf37e8f1cfad4393f9f.xml\n",
      "        [FILE] xemay397_jpg.rf.5b5289344b4ebe46f7c772ac2fb435e3.jpg\n",
      "        [FILE] CarLongPlateGen1809_jpg.rf.c451d9563fb97938eaf545a70ff4c457.jpg\n",
      "        [FILE] CarLongPlateGen86_jpg.rf.6aa8cb57bb3b078e4f1a23b0efe49706.jpg\n",
      "        [...]\n",
      "    [DIR] train\n",
      "        [FILE] CarLongPlateGen2707_jpg.rf.92e2bb3a0499e548f3bc2e54cc4ce299.xml\n",
      "        [FILE] 003df8cf2effae50_jpg.rf.85b92c041e14d9bcf4ed1fd70de9661f.jpg\n",
      "        [FILE] CarLongPlateGen2372_jpg.rf.0d12d2a9b4f0f957096227bf11d30626.jpg\n",
      "        [FILE] Cars168_png_jpg.rf.33aee6637f3a5a92f0bb1bd1e3005c3e.xml\n",
      "        [FILE] CarLongPlate584_jpg.rf.f0130e378d8afc47359cbaca7e8a8969.xml\n",
      "        [...]\n"
     ]
    }
   ],
   "source": [
    "print_tree(PROCESSED_DATA_DIR)"
   ]
  }
 ],
 "metadata": {
  "kernelspec": {
   "display_name": "pytorch_env",
   "language": "python",
   "name": "python3"
  },
  "language_info": {
   "codemirror_mode": {
    "name": "ipython",
    "version": 3
   },
   "file_extension": ".py",
   "mimetype": "text/x-python",
   "name": "python",
   "nbconvert_exporter": "python",
   "pygments_lexer": "ipython3",
   "version": "3.13.2"
  }
 },
 "nbformat": 4,
 "nbformat_minor": 2
}
